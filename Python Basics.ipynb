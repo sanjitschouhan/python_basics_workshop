{
 "cells": [
  {
   "cell_type": "markdown",
   "metadata": {
    "slideshow": {
     "slide_type": "subslide"
    }
   },
   "source": [
    "# <center>Python</center>"
   ]
  },
  {
   "cell_type": "markdown",
   "metadata": {
    "slideshow": {
     "slide_type": "slide"
    }
   },
   "source": [
    "# <center>Overview</center>\n",
    "\n",
    "- Introduction\n",
    "- Syntax\n",
    "- Data Types\n",
    "- Operators\n",
    "- Data Strutures\n",
    "- Control Flow\n",
    "- Functions\n",
    "- Importing Libraries\n",
    "- Files\n",
    "- map/filter/reduce\n"
   ]
  },
  {
   "cell_type": "markdown",
   "metadata": {
    "slideshow": {
     "slide_type": "slide"
    }
   },
   "source": [
    "# <center>What is Python?</center>\n",
    "\n",
    "- Multi-purpose (Web, GUI, Scripting, etc)\n",
    "- Object Oriented\n",
    "- Interpreted"
   ]
  },
  {
   "cell_type": "markdown",
   "metadata": {
    "slideshow": {
     "slide_type": "notes"
    }
   },
   "source": [
    "- Used for many purposed including web development, gui building(using gtk), scripting\n",
    "- It is object oriented, has classes and everything is object, even variables are object\n",
    "- It is interpreted, executed statement wise, no compilation before execution"
   ]
  },
  {
   "cell_type": "markdown",
   "metadata": {
    "slideshow": {
     "slide_type": "subslide"
    }
   },
   "source": [
    "# <center>Features</center>\n",
    "\n",
    "- Batteries Included\n",
    "- Interactive Shell\n",
    "- Everything is an object\n",
    "- Strong Interospection\n",
    "- Cross Platform"
   ]
  },
  {
   "cell_type": "markdown",
   "metadata": {
    "slideshow": {
     "slide_type": "notes"
    }
   },
   "source": [
    "- Batteries Included: \n",
    "    - Everything is prebuild\n",
    "    - no need to add any additional modules\n",
    "    - no need to write program for frequently used methods, like max, min, len\n",
    "    - has rich libraries\n",
    "- Interative shell\n",
    "    - Python shell can autocomplete statements\n",
    "- Everything is object\n",
    "- Interospection - can detect types and behaviour of object on runtime\n",
    "- Cross platform"
   ]
  },
  {
   "cell_type": "markdown",
   "metadata": {
    "slideshow": {
     "slide_type": "subslide"
    }
   },
   "source": [
    "# <center>Why Python?</center>\n",
    "\n",
    "* Readability\n",
    "* Very high level dynamic data types\n",
    "* Free and Open source\n",
    "* Cross Platform"
   ]
  },
  {
   "cell_type": "markdown",
   "metadata": {
    "slideshow": {
     "slide_type": "subslide"
    }
   },
   "source": [
    "# <center>Installation</center>\n",
    "\n",
    "#### Download setup file from [python.org](https://www.python.org/)\n",
    "\n",
    "Ubuntu/Debian:\n",
    "```bash\n",
    "sudo apt-get install python\n",
    "```\n",
    "Fedora:\n",
    "```bash\n",
    "sudo dnf install python\n",
    "```"
   ]
  },
  {
   "cell_type": "markdown",
   "metadata": {
    "slideshow": {
     "slide_type": "slide"
    }
   },
   "source": [
    "> **Linus Torvalds** &mdash; *Talk is cheap. Show me the code.*"
   ]
  },
  {
   "cell_type": "markdown",
   "metadata": {
    "slideshow": {
     "slide_type": "notes"
    }
   },
   "source": [
    "So we will be focusing more code than on theory"
   ]
  },
  {
   "cell_type": "markdown",
   "metadata": {
    "slideshow": {
     "slide_type": "slide"
    }
   },
   "source": [
    "# <center>Syntax</center>"
   ]
  },
  {
   "cell_type": "markdown",
   "metadata": {
    "slideshow": {
     "slide_type": "subslide"
    }
   },
   "source": [
    "# <center>Hello World</center>"
   ]
  },
  {
   "cell_type": "code",
   "execution_count": 1,
   "metadata": {
    "slideshow": {
     "slide_type": "-"
    }
   },
   "outputs": [
    {
     "name": "stdout",
     "output_type": "stream",
     "text": [
      "Hello World\n"
     ]
    }
   ],
   "source": [
    "#!/usr/bin/env python\n",
    "print \"Hello World\""
   ]
  },
  {
   "cell_type": "markdown",
   "metadata": {
    "slideshow": {
     "slide_type": "-"
    }
   },
   "source": [
    "<center> filename: hello_world.py </center>"
   ]
  },
  {
   "cell_type": "markdown",
   "metadata": {
    "slideshow": {
     "slide_type": "notes"
    }
   },
   "source": [
    "- Script files should be saved with extension .py\n",
    "- To run type ``` python hello_world.py```\n",
    "- As python is interpreted language, we can execute code while writing in the shell, no need to save\n",
    "- Python 3 should use ```print(\"Hello world\")```"
   ]
  },
  {
   "cell_type": "markdown",
   "metadata": {
    "slideshow": {
     "slide_type": "subslide"
    }
   },
   "source": [
    "# <center>Activity</center>"
   ]
  },
  {
   "cell_type": "markdown",
   "metadata": {},
   "source": [
    "1. Open gedit/notepad/notepad++/idle\n",
    "2. Write a program to print a paragraph about yourself\n",
    "3. Save the file as myself.py\n",
    "4. Open terminal/powershell\n",
    "5. Navigate to directory where your file is saved\n",
    "6. Run the program using<br>\n",
    "    ```python myself.py```"
   ]
  },
  {
   "cell_type": "markdown",
   "metadata": {
    "slideshow": {
     "slide_type": "subslide"
    }
   },
   "source": [
    "# <center>Answer</center>"
   ]
  },
  {
   "cell_type": "code",
   "execution_count": 2,
   "metadata": {
    "slideshow": {
     "slide_type": "-"
    }
   },
   "outputs": [
    {
     "name": "stdout",
     "output_type": "stream",
     "text": [
      "Hello, I am xyz. I stay in Hyderabad. I like coding and solving problem. I recently learned python and its very simple language\n"
     ]
    }
   ],
   "source": [
    "print \"Hello, I am xyz. I stay in Hyderabad. I like coding and solving problem. I recently learned python and its very simple language\""
   ]
  },
  {
   "cell_type": "markdown",
   "metadata": {
    "slideshow": {
     "slide_type": "slide"
    }
   },
   "source": [
    "# <center>Variables</center>\n",
    "\n",
    "* Variables are created when assigned\n",
    "* Type of variable is determined by python\n",
    "* No need to declare variables\n",
    "* All variables are objects\n",
    "* A variable assigned with one value can be reassigned to any data"
   ]
  },
  {
   "cell_type": "code",
   "execution_count": 3,
   "metadata": {
    "slideshow": {
     "slide_type": "-"
    }
   },
   "outputs": [
    {
     "name": "stdout",
     "output_type": "stream",
     "text": [
      "value\n",
      "10\n"
     ]
    }
   ],
   "source": [
    "variable_name = \"value\"\n",
    "print variable_name\n",
    "variable_name = 10\n",
    "print variable_name"
   ]
  },
  {
   "cell_type": "markdown",
   "metadata": {
    "slideshow": {
     "slide_type": "slide"
    }
   },
   "source": [
    "# <center>Types</center>"
   ]
  },
  {
   "cell_type": "markdown",
   "metadata": {
    "slideshow": {
     "slide_type": "subslide"
    }
   },
   "source": [
    "# <center>Strings</center>"
   ]
  },
  {
   "cell_type": "code",
   "execution_count": 4,
   "metadata": {
    "slideshow": {
     "slide_type": "-"
    }
   },
   "outputs": [
    {
     "name": "stdout",
     "output_type": "stream",
     "text": [
      "This is a string This is also a string\n"
     ]
    }
   ],
   "source": [
    "string1 = \"This is a string\"\n",
    "\n",
    "string2 = 'This is also a string'\n",
    "\n",
    "print string1, string2"
   ]
  },
  {
   "cell_type": "markdown",
   "metadata": {
    "slideshow": {
     "slide_type": "subslide"
    }
   },
   "source": [
    "# <center>Strings</center>"
   ]
  },
  {
   "cell_type": "code",
   "execution_count": 5,
   "metadata": {
    "slideshow": {
     "slide_type": "-"
    }
   },
   "outputs": [
    {
     "name": "stdout",
     "output_type": "stream",
     "text": [
      "This is a multi\n",
      "line string. It can take be written in multiple lines\n",
      "This is also\n",
      "multi line\n",
      "string.\n"
     ]
    }
   ],
   "source": [
    "string3 = '''This is a multi\n",
    "line string. It can take be written in multiple lines'''\n",
    "\n",
    "string4 = \"\"\"This is also\n",
    "multi line\n",
    "string.\"\"\"\n",
    "\n",
    "print string3\n",
    "print string4"
   ]
  },
  {
   "cell_type": "markdown",
   "metadata": {
    "slideshow": {
     "slide_type": "subslide"
    }
   },
   "source": [
    "# <center>Numbers</center>"
   ]
  },
  {
   "cell_type": "code",
   "execution_count": 6,
   "metadata": {
    "slideshow": {
     "slide_type": "-"
    }
   },
   "outputs": [],
   "source": [
    "# Integer Numbers\n",
    "year = 2018"
   ]
  },
  {
   "cell_type": "code",
   "execution_count": 7,
   "metadata": {
    "slideshow": {
     "slide_type": "-"
    }
   },
   "outputs": [],
   "source": [
    "# Floating Point Numbers\n",
    "pi = 3.14159265"
   ]
  },
  {
   "cell_type": "code",
   "execution_count": 8,
   "metadata": {
    "slideshow": {
     "slide_type": "-"
    }
   },
   "outputs": [],
   "source": [
    "# Fixed Point Numbers\n",
    "from decimal import Decimal\n",
    "price = Decimal(\"0.020\")"
   ]
  },
  {
   "cell_type": "code",
   "execution_count": 9,
   "metadata": {
    "slideshow": {
     "slide_type": "-"
    }
   },
   "outputs": [
    {
     "name": "stdout",
     "output_type": "stream",
     "text": [
      "2018 3.14159265 0.020\n"
     ]
    }
   ],
   "source": [
    "print year, pi, price"
   ]
  },
  {
   "cell_type": "markdown",
   "metadata": {
    "slideshow": {
     "slide_type": "notes"
    }
   },
   "source": [
    "- Floating point saves numbers in binary, so all numbers can't be represented in binary like 0.1 cannot be represented exactly in binary, a approximate value is save\n",
    "- Decimal stored each digit of number in a tuple and stores exponential value and sign"
   ]
  },
  {
   "cell_type": "markdown",
   "metadata": {
    "slideshow": {
     "slide_type": "subslide"
    }
   },
   "source": [
    "# <center>Null</center>"
   ]
  },
  {
   "cell_type": "code",
   "execution_count": 10,
   "metadata": {
    "slideshow": {
     "slide_type": "-"
    }
   },
   "outputs": [
    {
     "name": "stdout",
     "output_type": "stream",
     "text": [
      "None\n"
     ]
    }
   ],
   "source": [
    "optional_data = None\n",
    "\n",
    "print optional_data"
   ]
  },
  {
   "cell_type": "markdown",
   "metadata": {
    "slideshow": {
     "slide_type": "subslide"
    }
   },
   "source": [
    "# <center>Booleans</center>"
   ]
  },
  {
   "cell_type": "code",
   "execution_count": 11,
   "metadata": {
    "slideshow": {
     "slide_type": "-"
    }
   },
   "outputs": [
    {
     "data": {
      "text/plain": [
       "True"
      ]
     },
     "execution_count": 11,
     "metadata": {},
     "output_type": "execute_result"
    }
   ],
   "source": [
    "is_python = True\n",
    "is_python"
   ]
  },
  {
   "cell_type": "code",
   "execution_count": 12,
   "metadata": {
    "slideshow": {
     "slide_type": "-"
    }
   },
   "outputs": [
    {
     "data": {
      "text/plain": [
       "True"
      ]
     },
     "execution_count": 12,
     "metadata": {},
     "output_type": "execute_result"
    }
   ],
   "source": [
    "is_boolean = bool(\"any object\")\n",
    "is_boolean"
   ]
  },
  {
   "cell_type": "markdown",
   "metadata": {
    "slideshow": {
     "slide_type": "notes"
    }
   },
   "source": [
    "- Everything has a boolean value\n",
    "- Every non zero or non emply is treated as True\n",
    "- All zero or empty are treated as False"
   ]
  },
  {
   "cell_type": "markdown",
   "metadata": {
    "slideshow": {
     "slide_type": "subslide"
    }
   },
   "source": [
    "# <center>Booleans</center>"
   ]
  },
  {
   "cell_type": "code",
   "execution_count": 13,
   "metadata": {
    "slideshow": {
     "slide_type": "-"
    }
   },
   "outputs": [
    {
     "data": {
      "text/plain": [
       "False"
      ]
     },
     "execution_count": 13,
     "metadata": {},
     "output_type": "execute_result"
    }
   ],
   "source": [
    "these_are_false = False or 0 or \"\" or {} or [] or None\n",
    "bool(these_are_false)"
   ]
  },
  {
   "cell_type": "code",
   "execution_count": 14,
   "metadata": {
    "slideshow": {
     "slide_type": "-"
    }
   },
   "outputs": [
    {
     "data": {
      "text/plain": [
       "True"
      ]
     },
     "execution_count": 14,
     "metadata": {},
     "output_type": "execute_result"
    }
   ],
   "source": [
    "these_are_true = True and 1 and \"Text\" and {\"a\":\"b\"} and ['c','d']\n",
    "bool(these_are_true)"
   ]
  },
  {
   "cell_type": "markdown",
   "metadata": {
    "slideshow": {
     "slide_type": "subslide"
    }
   },
   "source": [
    "# <center>Activity</center>"
   ]
  },
  {
   "cell_type": "markdown",
   "metadata": {},
   "source": [
    "1. Create another python script\n",
    "2. Create following variables\n",
    "    - name : string\n",
    "    - age : integer\n",
    "    - height : float\n",
    "    - weight : float\n",
    "    - college : string\n",
    "    - isGraduated : boolean (True/False)\n",
    "3. print all the above variables in a form like<br>\n",
    "```python\n",
    "print \"Name:\",name\n",
    "print \"Age:\",age\n",
    "# print all variables like this\n",
    "```\n",
    "4. Run the script"
   ]
  },
  {
   "cell_type": "markdown",
   "metadata": {
    "slideshow": {
     "slide_type": "subslide"
    }
   },
   "source": [
    "# <center>Answer</center>"
   ]
  },
  {
   "cell_type": "code",
   "execution_count": 15,
   "metadata": {},
   "outputs": [
    {
     "name": "stdout",
     "output_type": "stream",
     "text": [
      "Name: Ram\n",
      "Age: 20\n",
      "Height: 5.6\n",
      "Weight: 65\n",
      "College: JNTUH\n",
      "isGraduated: False\n"
     ]
    }
   ],
   "source": [
    "name = \"Ram\"\n",
    "age = 20\n",
    "height = 5.6\n",
    "weight = 65\n",
    "college = \"JNTUH\"\n",
    "isGraduated = False\n",
    "\n",
    "print \"Name:\",name\n",
    "print \"Age:\",age\n",
    "print \"Height:\",height\n",
    "print \"Weight:\",weight\n",
    "print \"College:\",college\n",
    "print \"isGraduated:\",isGraduated"
   ]
  },
  {
   "cell_type": "markdown",
   "metadata": {
    "slideshow": {
     "slide_type": "slide"
    }
   },
   "source": [
    "# <center>Operators</center>"
   ]
  },
  {
   "cell_type": "markdown",
   "metadata": {
    "slideshow": {
     "slide_type": "subslide"
    }
   },
   "source": [
    "# <center>Arithmetic Operators</center>"
   ]
  },
  {
   "cell_type": "code",
   "execution_count": 16,
   "metadata": {
    "slideshow": {
     "slide_type": "-"
    }
   },
   "outputs": [
    {
     "name": "stdout",
     "output_type": "stream",
     "text": [
      "9\n"
     ]
    }
   ],
   "source": [
    "a = 10\n",
    "a += 1\n",
    "a -=2\n",
    "print a"
   ]
  },
  {
   "cell_type": "code",
   "execution_count": 17,
   "metadata": {},
   "outputs": [
    {
     "name": "stdout",
     "output_type": "stream",
     "text": [
      "9 10 8\n"
     ]
    }
   ],
   "source": [
    "b = a + 1\n",
    "c = a - 1\n",
    "print a,b,c"
   ]
  },
  {
   "cell_type": "markdown",
   "metadata": {
    "slideshow": {
     "slide_type": "notes"
    }
   },
   "source": [
    "- All operators are same as other languages\n",
    "- There are no ++ or --"
   ]
  },
  {
   "cell_type": "markdown",
   "metadata": {
    "slideshow": {
     "slide_type": "subslide"
    }
   },
   "source": [
    "# <center>Arithmetic Operators</center>"
   ]
  },
  {
   "cell_type": "code",
   "execution_count": 18,
   "metadata": {},
   "outputs": [
    {
     "name": "stdout",
     "output_type": "stream",
     "text": [
      "18 4 0\n"
     ]
    }
   ],
   "source": [
    "d = a*2\n",
    "e = a/2\n",
    "f = a%3\n",
    "print d,e,f"
   ]
  },
  {
   "cell_type": "code",
   "execution_count": 19,
   "metadata": {
    "scrolled": true
   },
   "outputs": [
    {
     "name": "stdout",
     "output_type": "stream",
     "text": [
      "9 power 2 is 81\n"
     ]
    }
   ],
   "source": [
    "# Power Operator\n",
    "g = a**2\n",
    "print a,\"power\",2,'is',g"
   ]
  },
  {
   "cell_type": "markdown",
   "metadata": {
    "slideshow": {
     "slide_type": "subslide"
    }
   },
   "source": [
    "# <center>String Manipulation Operators</center>"
   ]
  },
  {
   "cell_type": "code",
   "execution_count": 20,
   "metadata": {},
   "outputs": [
    {
     "name": "stdout",
     "output_type": "stream",
     "text": [
      "Cat Dog\n"
     ]
    }
   ],
   "source": [
    "cat = \"Cat\"\n",
    "dog = \"Dog\"\n",
    "animals = cat + \" \" + dog\n",
    "print animals"
   ]
  },
  {
   "cell_type": "code",
   "execution_count": 21,
   "metadata": {},
   "outputs": [
    {
     "name": "stdout",
     "output_type": "stream",
     "text": [
      "Cat Dog Rabbit\n"
     ]
    }
   ],
   "source": [
    "animals += \" Rabbit\"\n",
    "print animals"
   ]
  },
  {
   "cell_type": "markdown",
   "metadata": {
    "slideshow": {
     "slide_type": "subslide"
    }
   },
   "source": [
    "# <center>String Manipulation Operators</center>"
   ]
  },
  {
   "cell_type": "code",
   "execution_count": 22,
   "metadata": {},
   "outputs": [
    {
     "name": "stdout",
     "output_type": "stream",
     "text": [
      "**************************************************\n"
     ]
    }
   ],
   "source": [
    "symbol='*'\n",
    "print symbol*50"
   ]
  },
  {
   "cell_type": "code",
   "execution_count": 23,
   "metadata": {},
   "outputs": [
    {
     "name": "stdout",
     "output_type": "stream",
     "text": [
      "**************************************************\n",
      "*                                                *\n",
      "*                                                *\n",
      "*                                                *\n",
      "**************************************************\n"
     ]
    }
   ],
   "source": [
    "s = symbol + ' '*48 + symbol\n",
    "print symbol*50\n",
    "print s\n",
    "print s\n",
    "print s\n",
    "print symbol*50"
   ]
  },
  {
   "cell_type": "markdown",
   "metadata": {
    "slideshow": {
     "slide_type": "subslide"
    }
   },
   "source": [
    "# <center>Logical Operators</center>"
   ]
  },
  {
   "cell_type": "code",
   "execution_count": 24,
   "metadata": {},
   "outputs": [
    {
     "name": "stdout",
     "output_type": "stream",
     "text": [
      "False\n",
      "True\n",
      "False True\n"
     ]
    }
   ],
   "source": [
    "a = True\n",
    "b = False\n",
    "\n",
    "# Logical And\n",
    "print a and b\n",
    "\n",
    "# Logical Or\n",
    "print a or b\n",
    "\n",
    "# Logical Not\n",
    "print not a, not b"
   ]
  },
  {
   "cell_type": "markdown",
   "metadata": {
    "slideshow": {
     "slide_type": "subslide"
    }
   },
   "source": [
    "# <center>Comparision Operators</center>"
   ]
  },
  {
   "cell_type": "code",
   "execution_count": 25,
   "metadata": {},
   "outputs": [
    {
     "name": "stdout",
     "output_type": "stream",
     "text": [
      "False\n",
      "False\n",
      "True\n",
      "True\n",
      "False\n",
      "True\n"
     ]
    }
   ],
   "source": [
    "a = 10\n",
    "b = 20\n",
    "\n",
    "print a>b  # greater than\n",
    "print a>=b # greater than or equals to\n",
    "print a<b   # less than\n",
    "print a<=b  # less than or equals to\n",
    "print a==b  # equals to\n",
    "print a!=b  # not equals to"
   ]
  },
  {
   "cell_type": "markdown",
   "metadata": {
    "slideshow": {
     "slide_type": "subslide"
    }
   },
   "source": [
    "# <center>Activity</center>"
   ]
  },
  {
   "cell_type": "markdown",
   "metadata": {},
   "source": [
    "Create a python script to generate follwing pattern\n",
    "\n",
    "<pre>\n",
    "*************************\n",
    "*************************\n",
    "*************************\n",
    "*****               *****\n",
    "*****               *****\n",
    "*****               *****\n",
    "*****               *****\n",
    "*****               *****\n",
    "*****               *****\n",
    "*************************\n",
    "*************************\n",
    "*************************\n",
    "</pre>\n",
    "\n",
    "* Long lines contain 25 astrics\n",
    "* Lines with spaces contain 5 astrics on both side and 15 spaces in middle"
   ]
  },
  {
   "cell_type": "markdown",
   "metadata": {
    "slideshow": {
     "slide_type": "subslide"
    }
   },
   "source": [
    "# <center>Answer</center>"
   ]
  },
  {
   "cell_type": "code",
   "execution_count": 26,
   "metadata": {},
   "outputs": [
    {
     "name": "stdout",
     "output_type": "stream",
     "text": [
      "*************************\n",
      "*************************\n",
      "*************************\n",
      "*****               *****\n",
      "*****               *****\n",
      "*****               *****\n",
      "*****               *****\n",
      "*****               *****\n",
      "*****               *****\n",
      "*************************\n",
      "*************************\n",
      "*************************\n"
     ]
    }
   ],
   "source": [
    "longer = '*'*25\n",
    "line_with_space = '*'*5+' '*15+'*'*5\n",
    "\n",
    "print longer\n",
    "print longer\n",
    "print longer\n",
    "print line_with_space\n",
    "print line_with_space\n",
    "print line_with_space\n",
    "print line_with_space\n",
    "print line_with_space\n",
    "print line_with_space\n",
    "print longer\n",
    "print longer\n",
    "print longer"
   ]
  },
  {
   "cell_type": "markdown",
   "metadata": {
    "slideshow": {
     "slide_type": "slide"
    }
   },
   "source": [
    "# <center>Data Structures</center>"
   ]
  },
  {
   "cell_type": "markdown",
   "metadata": {
    "slideshow": {
     "slide_type": "subslide"
    }
   },
   "source": [
    "# <center>Lists</center>\n",
    "\n",
    "Lists can contain heterogeneous data"
   ]
  },
  {
   "cell_type": "code",
   "execution_count": 27,
   "metadata": {
    "slideshow": {
     "slide_type": "-"
    }
   },
   "outputs": [
    {
     "name": "stdout",
     "output_type": "stream",
     "text": [
      "[]\n"
     ]
    }
   ],
   "source": [
    "favourite = []\n",
    "\n",
    "print favourite"
   ]
  },
  {
   "cell_type": "markdown",
   "metadata": {
    "slideshow": {
     "slide_type": "subslide"
    }
   },
   "source": [
    "# <center>Lists</center>\n",
    "\n",
    "Appending"
   ]
  },
  {
   "cell_type": "code",
   "execution_count": 28,
   "metadata": {
    "slideshow": {
     "slide_type": "-"
    }
   },
   "outputs": [
    {
     "name": "stdout",
     "output_type": "stream",
     "text": [
      "[123, 1.2, 'text', ['List', 'inside', 'List']]\n"
     ]
    }
   ],
   "source": [
    "favourite.append(123)\n",
    "favourite.append(1.2)\n",
    "favourite.append(\"text\")\n",
    "favourite.append([\"List\",\"inside\",\"List\"])\n",
    "print favourite"
   ]
  },
  {
   "cell_type": "markdown",
   "metadata": {
    "slideshow": {
     "slide_type": "notes"
    }
   },
   "source": [
    "- Lists can store anything\n",
    "    - numbers \n",
    "    - text\n",
    "    - lists\n",
    "    - dictionaries\n",
    "    - sets\n",
    "    - functions\n",
    "    - classes objects\n",
    "    - lists inside lists\n",
    "    - lists inside lists inside lists, and so on"
   ]
  },
  {
   "cell_type": "markdown",
   "metadata": {
    "slideshow": {
     "slide_type": "subslide"
    }
   },
   "source": [
    "# <center>Lists</center>\n",
    "\n",
    "Extending"
   ]
  },
  {
   "cell_type": "code",
   "execution_count": 29,
   "metadata": {},
   "outputs": [
    {
     "data": {
      "text/plain": [
       "[123, 1.2, 'text', ['List', 'inside', 'List'], 'Python', True]"
      ]
     },
     "execution_count": 29,
     "metadata": {},
     "output_type": "execute_result"
    }
   ],
   "source": [
    "favourite.extend([\"Python\", True])\n",
    "\n",
    "favourite"
   ]
  },
  {
   "cell_type": "markdown",
   "metadata": {
    "slideshow": {
     "slide_type": "notes"
    }
   },
   "source": [
    "- Extending is used to append all the elements of one list into another\n",
    "- Append cannot be used for this, append will append the whole list, not the elements individually"
   ]
  },
  {
   "cell_type": "markdown",
   "metadata": {
    "slideshow": {
     "slide_type": "subslide"
    }
   },
   "source": [
    "# <center>Lists</center>\n",
    "\n",
    "Assignment"
   ]
  },
  {
   "cell_type": "code",
   "execution_count": 30,
   "metadata": {},
   "outputs": [
    {
     "data": {
      "text/plain": [
       "[123, 'Python', True, None]"
      ]
     },
     "execution_count": 30,
     "metadata": {},
     "output_type": "execute_result"
    }
   ],
   "source": [
    "favourite = [123, 'Python', True, None]\n",
    "\n",
    "favourite"
   ]
  },
  {
   "cell_type": "markdown",
   "metadata": {
    "slideshow": {
     "slide_type": "subslide"
    }
   },
   "source": [
    "# <center>Lists</center>"
   ]
  },
  {
   "cell_type": "code",
   "execution_count": 31,
   "metadata": {
    "slideshow": {
     "slide_type": "-"
    }
   },
   "outputs": [],
   "source": [
    "numbers = [1,2,3,4,5]"
   ]
  },
  {
   "cell_type": "code",
   "execution_count": 32,
   "metadata": {
    "slideshow": {
     "slide_type": "-"
    }
   },
   "outputs": [
    {
     "data": {
      "text/plain": [
       "5"
      ]
     },
     "execution_count": 32,
     "metadata": {},
     "output_type": "execute_result"
    }
   ],
   "source": [
    "len(numbers)"
   ]
  },
  {
   "cell_type": "code",
   "execution_count": 33,
   "metadata": {
    "slideshow": {
     "slide_type": "-"
    }
   },
   "outputs": [
    {
     "data": {
      "text/plain": [
       "3"
      ]
     },
     "execution_count": 33,
     "metadata": {},
     "output_type": "execute_result"
    }
   ],
   "source": [
    "numbers[2]\n",
    "# indexing start from 0"
   ]
  },
  {
   "cell_type": "code",
   "execution_count": 34,
   "metadata": {},
   "outputs": [
    {
     "data": {
      "text/plain": [
       "5"
      ]
     },
     "execution_count": 34,
     "metadata": {},
     "output_type": "execute_result"
    }
   ],
   "source": [
    "numbers[-1] \n",
    "# indexing from reverse starts from -1"
   ]
  },
  {
   "cell_type": "markdown",
   "metadata": {
    "slideshow": {
     "slide_type": "subslide"
    }
   },
   "source": [
    "# <center>Lists</center>\n",
    "\n",
    "### <center>Slicing</center>\n",
    "\n",
    "numbers = [1,2,3,4,5]"
   ]
  },
  {
   "cell_type": "code",
   "execution_count": 35,
   "metadata": {
    "slideshow": {
     "slide_type": "-"
    }
   },
   "outputs": [
    {
     "data": {
      "text/plain": [
       "[2, 3, 4]"
      ]
     },
     "execution_count": 35,
     "metadata": {},
     "output_type": "execute_result"
    }
   ],
   "source": [
    "numbers[1:4]"
   ]
  },
  {
   "cell_type": "code",
   "execution_count": 36,
   "metadata": {
    "slideshow": {
     "slide_type": "-"
    }
   },
   "outputs": [
    {
     "data": {
      "text/plain": [
       "[1, 2, 3]"
      ]
     },
     "execution_count": 36,
     "metadata": {},
     "output_type": "execute_result"
    }
   ],
   "source": [
    "numbers[:3]"
   ]
  },
  {
   "cell_type": "code",
   "execution_count": 37,
   "metadata": {
    "slideshow": {
     "slide_type": "-"
    }
   },
   "outputs": [
    {
     "data": {
      "text/plain": [
       "[3, 4, 5]"
      ]
     },
     "execution_count": 37,
     "metadata": {},
     "output_type": "execute_result"
    }
   ],
   "source": [
    "numbers[2:]"
   ]
  },
  {
   "cell_type": "markdown",
   "metadata": {
    "slideshow": {
     "slide_type": "notes"
    }
   },
   "source": [
    "- Slicing can be applied on strings also\n",
    "- numbers[1:4] gets elements from index 1 to index 3(4-1)\n",
    "- negative indexes can be used for slicing\n",
    "- number[:3] gets elements from start to index 2\n",
    "- number[2:] gets elements from index 2 to end"
   ]
  },
  {
   "cell_type": "markdown",
   "metadata": {
    "slideshow": {
     "slide_type": "subslide"
    }
   },
   "source": [
    "# <center>Tuples</center>\n",
    "\n",
    "* Immutable Data Type\n",
    "* Faster Than List"
   ]
  },
  {
   "cell_type": "code",
   "execution_count": 38,
   "metadata": {},
   "outputs": [
    {
     "name": "stdout",
     "output_type": "stream",
     "text": [
      "(1, 2, 3, 1, 'text')\n"
     ]
    }
   ],
   "source": [
    "t = (1,2,3,1,\"text\")\n",
    "\n",
    "print t"
   ]
  },
  {
   "cell_type": "markdown",
   "metadata": {
    "slideshow": {
     "slide_type": "notes"
    }
   },
   "source": [
    "- You cannot add any element to tuple after declaring\n",
    "- You can redeclare tuple, new tuple will be create, existing will be deleted\n",
    "- Tuple has only two methos\n",
    "    - index - to get index of any element\n",
    "    - count - to get count of any element\n",
    "- Tuples are fast as memory is fixed, as it is immutable, so indexing can be done when creating"
   ]
  },
  {
   "cell_type": "markdown",
   "metadata": {
    "slideshow": {
     "slide_type": "subslide"
    }
   },
   "source": [
    "# <center>Dictionaries</center>"
   ]
  },
  {
   "cell_type": "code",
   "execution_count": 39,
   "metadata": {
    "slideshow": {
     "slide_type": "-"
    }
   },
   "outputs": [
    {
     "data": {
      "text/plain": [
       "{}"
      ]
     },
     "execution_count": 39,
     "metadata": {},
     "output_type": "execute_result"
    }
   ],
   "source": [
    "person = {}\n",
    "person"
   ]
  },
  {
   "cell_type": "code",
   "execution_count": 40,
   "metadata": {
    "slideshow": {
     "slide_type": "-"
    }
   },
   "outputs": [],
   "source": [
    "# set by key\n",
    "person['name'] = 'John'"
   ]
  },
  {
   "cell_type": "code",
   "execution_count": 41,
   "metadata": {
    "slideshow": {
     "slide_type": "-"
    }
   },
   "outputs": [
    {
     "data": {
      "text/plain": [
       "{'name': 'John'}"
      ]
     },
     "execution_count": 41,
     "metadata": {},
     "output_type": "execute_result"
    }
   ],
   "source": [
    "person"
   ]
  },
  {
   "cell_type": "code",
   "execution_count": 42,
   "metadata": {
    "slideshow": {
     "slide_type": "-"
    }
   },
   "outputs": [
    {
     "data": {
      "text/plain": [
       "'John'"
      ]
     },
     "execution_count": 42,
     "metadata": {},
     "output_type": "execute_result"
    }
   ],
   "source": [
    "# get by key\n",
    "person['name']"
   ]
  },
  {
   "cell_type": "markdown",
   "metadata": {
    "slideshow": {
     "slide_type": "subslide"
    }
   },
   "source": [
    "# <center>Dictionaries</center>"
   ]
  },
  {
   "cell_type": "code",
   "execution_count": 43,
   "metadata": {
    "slideshow": {
     "slide_type": "-"
    }
   },
   "outputs": [
    {
     "data": {
      "text/plain": [
       "{'favorites': [42, 'food'], 'gender': 'male', 'name': 'John'}"
      ]
     },
     "execution_count": 43,
     "metadata": {},
     "output_type": "execute_result"
    }
   ],
   "source": [
    "# Update\n",
    "person.update({\n",
    "    'favorites': [42, 'food'],\n",
    "    'gender': 'male'\n",
    "})\n",
    "\n",
    "person"
   ]
  },
  {
   "cell_type": "markdown",
   "metadata": {
    "slideshow": {
     "slide_type": "subslide"
    }
   },
   "source": [
    "# <center>Dictionaries Method</center>"
   ]
  },
  {
   "cell_type": "code",
   "execution_count": 44,
   "metadata": {
    "slideshow": {
     "slide_type": "-"
    }
   },
   "outputs": [
    {
     "name": "stdout",
     "output_type": "stream",
     "text": [
      "John\n",
      "Unknown\n"
     ]
    }
   ],
   "source": [
    "# dictionary_variable.get(key, default=null)\n",
    "\n",
    "print person.get(\"name\",\"Unknown\")\n",
    "# name is available in dictionary, so name is printed\n",
    "\n",
    "print person.get(\"age\",\"Unknown\")\n",
    "# age is not available in dictionary, so default value('unknown') is printed"
   ]
  },
  {
   "cell_type": "markdown",
   "metadata": {
    "slideshow": {
     "slide_type": "notes"
    }
   },
   "source": [
    "- get method takes two arguments\n",
    "    - key - what should be extracted from dictionary\n",
    "    - default - what should be returned if the key is not found, defaults to null"
   ]
  },
  {
   "cell_type": "markdown",
   "metadata": {
    "slideshow": {
     "slide_type": "subslide"
    }
   },
   "source": [
    "# <center>Dictionaries Method</center>"
   ]
  },
  {
   "cell_type": "code",
   "execution_count": 45,
   "metadata": {
    "slideshow": {
     "slide_type": "-"
    }
   },
   "outputs": [
    {
     "data": {
      "text/plain": [
       "['gender', 'name', 'favorites']"
      ]
     },
     "execution_count": 45,
     "metadata": {},
     "output_type": "execute_result"
    }
   ],
   "source": [
    "person.keys()"
   ]
  },
  {
   "cell_type": "code",
   "execution_count": 46,
   "metadata": {
    "slideshow": {
     "slide_type": "-"
    }
   },
   "outputs": [
    {
     "data": {
      "text/plain": [
       "['male', 'John', [42, 'food']]"
      ]
     },
     "execution_count": 46,
     "metadata": {},
     "output_type": "execute_result"
    }
   ],
   "source": [
    "person.values()"
   ]
  },
  {
   "cell_type": "code",
   "execution_count": 47,
   "metadata": {
    "slideshow": {
     "slide_type": "-"
    }
   },
   "outputs": [
    {
     "data": {
      "text/plain": [
       "[('gender', 'male'), ('name', 'John'), ('favorites', [42, 'food'])]"
      ]
     },
     "execution_count": 47,
     "metadata": {},
     "output_type": "execute_result"
    }
   ],
   "source": [
    "person.items()"
   ]
  },
  {
   "cell_type": "markdown",
   "metadata": {
    "slideshow": {
     "slide_type": "subslide"
    }
   },
   "source": [
    "# <center>Activity</center>"
   ]
  },
  {
   "cell_type": "markdown",
   "metadata": {},
   "source": [
    "Convert the program from second activity, where you created separate variables for your details to:\n",
    "* implement dictionary\n",
    "* print whole dictionary\n",
    "\n",
    "```python\n",
    "name = \"Ram\"\n",
    "age = 20\n",
    "height = 5.6\n",
    "weight = 65\n",
    "college = \"JNTUH\"\n",
    "isGraduated = False\n",
    "\n",
    "print \"Name:\",name\n",
    "print \"Age:\",age\n",
    "print \"Height:\",height\n",
    "print \"Weight:\",weight\n",
    "print \"College:\",college\n",
    "print \"isGraduated:\",isGraduated\n",
    "```"
   ]
  },
  {
   "cell_type": "markdown",
   "metadata": {
    "slideshow": {
     "slide_type": "subslide"
    }
   },
   "source": [
    "# <center>Answer</center>\n",
    "\n",
    "Other ways of implementations are also correct. Below is one of completing this activity"
   ]
  },
  {
   "cell_type": "code",
   "execution_count": 48,
   "metadata": {},
   "outputs": [
    {
     "name": "stdout",
     "output_type": "stream",
     "text": [
      "{'isGraduated': False, 'name': 'Ram', 'weight': 65, 'age': 20, 'height': 5.6, 'college': 'JNTUH'}\n"
     ]
    }
   ],
   "source": [
    "myself = {\n",
    "'name' : \"Ram\",\n",
    "'age' : 20,\n",
    "'height' : 5.6,\n",
    "'weight' : 65,\n",
    "'college' : \"JNTUH\",\n",
    "'isGraduated' : False\n",
    "}\n",
    "\n",
    "print myself"
   ]
  },
  {
   "cell_type": "markdown",
   "metadata": {
    "slideshow": {
     "slide_type": "slide"
    }
   },
   "source": [
    "# <center>Indentation</center>"
   ]
  },
  {
   "cell_type": "code",
   "execution_count": 49,
   "metadata": {
    "slideshow": {
     "slide_type": "-"
    }
   },
   "outputs": [],
   "source": [
    "foo,bar=True,True\n",
    "def baz(foo,bar):\n",
    "    print foo and bar\n",
    "def qux():\n",
    "    print False"
   ]
  },
  {
   "cell_type": "code",
   "execution_count": 50,
   "metadata": {
    "raw_mimetype": "text/x-python",
    "slideshow": {
     "slide_type": "-"
    }
   },
   "outputs": [
    {
     "name": "stdout",
     "output_type": "stream",
     "text": [
      "True\n"
     ]
    }
   ],
   "source": [
    "if foo:\n",
    "    if bar:\n",
    "        baz(foo,bar)\n",
    "    else:\n",
    "        qux()"
   ]
  },
  {
   "cell_type": "markdown",
   "metadata": {
    "slideshow": {
     "slide_type": "notes"
    }
   },
   "source": [
    "- Indentation is taken seriously in python\n",
    "- the else belong to inner if, because they have same level of indentation\n",
    "- there are no {} for showing compount statements\n",
    "- indentation shows where the statement belongs to\n",
    "- statement without indentation belong to main() - main is not needed to define"
   ]
  },
  {
   "cell_type": "markdown",
   "metadata": {
    "slideshow": {
     "slide_type": "slide"
    }
   },
   "source": [
    "# <center>Control Flow</center>\n",
    "\n",
    "* Conditionals (if-elif-else)\n",
    "* while loop\n",
    "* for loop"
   ]
  },
  {
   "cell_type": "markdown",
   "metadata": {
    "slideshow": {
     "slide_type": "subslide"
    }
   },
   "source": [
    "# <center>Conditionals</center>\n",
    "\n",
    "### <center>Simple if-else</center>"
   ]
  },
  {
   "cell_type": "code",
   "execution_count": 51,
   "metadata": {},
   "outputs": [
    {
     "name": "stdout",
     "output_type": "stream",
     "text": [
      "Pass\n"
     ]
    }
   ],
   "source": [
    "marks = 70\n",
    "\n",
    "if marks >= 40:\n",
    "    print \"Pass\"\n",
    "else:\n",
    "    print \"Fail\""
   ]
  },
  {
   "cell_type": "markdown",
   "metadata": {
    "slideshow": {
     "slide_type": "subslide"
    }
   },
   "source": [
    "# <center>Conditionals</center>\n",
    "### <center>if-elif-else</center>"
   ]
  },
  {
   "cell_type": "code",
   "execution_count": 52,
   "metadata": {},
   "outputs": [
    {
     "name": "stdout",
     "output_type": "stream",
     "text": [
      "B\n"
     ]
    }
   ],
   "source": [
    "marks = 70\n",
    "\n",
    "if marks > 85:\n",
    "    print 'A+'\n",
    "elif marks > 75:\n",
    "    print 'A'\n",
    "elif marks > 65:\n",
    "    print 'B'\n",
    "else:\n",
    "    print 'C'"
   ]
  },
  {
   "cell_type": "markdown",
   "metadata": {
    "slideshow": {
     "slide_type": "subslide"
    }
   },
   "source": [
    "# <center>Conditionals</center>\n",
    "\n",
    "### <center>nested if-else</center>"
   ]
  },
  {
   "cell_type": "code",
   "execution_count": 53,
   "metadata": {},
   "outputs": [
    {
     "name": "stdout",
     "output_type": "stream",
     "text": [
      "Pass\n",
      "B\n"
     ]
    }
   ],
   "source": [
    "marks = 70\n",
    "\n",
    "if marks >= 40:\n",
    "    print \"Pass\"\n",
    "    if marks > 85:\n",
    "        print 'A+'\n",
    "    elif marks > 75:\n",
    "        print 'A'\n",
    "    elif marks > 65:\n",
    "        print 'B'\n",
    "    else:\n",
    "        print 'C'\n",
    "else:\n",
    "    print \"Fail\""
   ]
  },
  {
   "cell_type": "markdown",
   "metadata": {
    "slideshow": {
     "slide_type": "subslide"
    }
   },
   "source": [
    "# <center>Activity</center>"
   ]
  },
  {
   "cell_type": "markdown",
   "metadata": {},
   "source": [
    "Write a python script to find greatest of 3 numbers"
   ]
  },
  {
   "cell_type": "markdown",
   "metadata": {
    "slideshow": {
     "slide_type": "subslide"
    }
   },
   "source": [
    "# <center>Answer</center>"
   ]
  },
  {
   "cell_type": "code",
   "execution_count": 54,
   "metadata": {},
   "outputs": [
    {
     "name": "stdout",
     "output_type": "stream",
     "text": [
      "20\n"
     ]
    }
   ],
   "source": [
    "a = 10\n",
    "b = 5\n",
    "c = 20\n",
    "\n",
    "if a>b and a>c:\n",
    "    print a\n",
    "elif b>c:\n",
    "    print b\n",
    "else:\n",
    "    print c"
   ]
  },
  {
   "cell_type": "markdown",
   "metadata": {
    "slideshow": {
     "slide_type": "subslide"
    }
   },
   "source": [
    "# <center>While Loop</center>"
   ]
  },
  {
   "cell_type": "code",
   "execution_count": 55,
   "metadata": {},
   "outputs": [
    {
     "name": "stdout",
     "output_type": "stream",
     "text": [
      "10 20 30 40 50 60 70 80 90\n"
     ]
    }
   ],
   "source": [
    "i = 10\n",
    "while i<100:\n",
    "    print i,\n",
    "    i += 10"
   ]
  },
  {
   "cell_type": "code",
   "execution_count": 56,
   "metadata": {
    "slideshow": {
     "slide_type": "-"
    }
   },
   "outputs": [
    {
     "name": "stdout",
     "output_type": "stream",
     "text": [
      "10 20 30 40 50 60 70 80 90 Out of loop\n"
     ]
    }
   ],
   "source": [
    "i = 10\n",
    "while i<100:\n",
    "    print i,\n",
    "    i += 10\n",
    "else:\n",
    "    print \"Out of loop\""
   ]
  },
  {
   "cell_type": "markdown",
   "metadata": {
    "slideshow": {
     "slide_type": "notes"
    }
   },
   "source": [
    "* The else block executes if loop condition is false\n",
    "* Else block executes when loop ends, that is condition becomes false\n",
    "* If break statement is used in loop before condition becomes false, else block is **not** executed"
   ]
  },
  {
   "cell_type": "markdown",
   "metadata": {
    "slideshow": {
     "slide_type": "subslide"
    }
   },
   "source": [
    "# <center>For Loop</center>"
   ]
  },
  {
   "cell_type": "code",
   "execution_count": 57,
   "metadata": {},
   "outputs": [
    {
     "name": "stdout",
     "output_type": "stream",
     "text": [
      "0 1 2 3 4 5 6 7 8 9\n"
     ]
    }
   ],
   "source": [
    "for i in range(10):\n",
    "    print i,"
   ]
  },
  {
   "cell_type": "code",
   "execution_count": 58,
   "metadata": {
    "slideshow": {
     "slide_type": "-"
    }
   },
   "outputs": [
    {
     "name": "stdout",
     "output_type": "stream",
     "text": [
      "-10 -9 -8 -7 -6 -5 -4 -3 -2 -1 0 1 2 3 4 5 6 7 8 9\n"
     ]
    }
   ],
   "source": [
    "for i in range(-10,10):\n",
    "    print i,"
   ]
  },
  {
   "cell_type": "markdown",
   "metadata": {
    "slideshow": {
     "slide_type": "notes"
    }
   },
   "source": [
    "- if only one value is supplied(say n) to range() then it gives values from 0 to n-1\n",
    "- if two values are supplied, then it starts from first value and ends at second-1\n",
    "- for loop iterates over all values of range"
   ]
  },
  {
   "cell_type": "markdown",
   "metadata": {
    "slideshow": {
     "slide_type": "subslide"
    }
   },
   "source": [
    "# <center>For Loop</center>"
   ]
  },
  {
   "cell_type": "code",
   "execution_count": 59,
   "metadata": {},
   "outputs": [
    {
     "name": "stdout",
     "output_type": "stream",
     "text": [
      "0 2 4 6 8 10 12 14 16 18\n"
     ]
    }
   ],
   "source": [
    "for i in range(0,20,2):\n",
    "    print i,"
   ]
  },
  {
   "cell_type": "code",
   "execution_count": 60,
   "metadata": {},
   "outputs": [
    {
     "name": "stdout",
     "output_type": "stream",
     "text": [
      "50 45 40 35 30 25 20 15\n"
     ]
    }
   ],
   "source": [
    "for i in range(50,10,-5):\n",
    "    print i,"
   ]
  },
  {
   "cell_type": "markdown",
   "metadata": {
    "slideshow": {
     "slide_type": "notes"
    }
   },
   "source": [
    "- if three values are supplied to range()\n",
    "    - first is start value\n",
    "    - second is end value, loop iterates till second-1\n",
    "    - third is step, variable will be increamented or decreamented by this value\n",
    "- when iterating in reverse like in second loop, step value should be provided\n",
    "- step value defaults to +1"
   ]
  },
  {
   "cell_type": "markdown",
   "metadata": {
    "slideshow": {
     "slide_type": "subslide"
    }
   },
   "source": [
    "# <center>For Loop</center>"
   ]
  },
  {
   "cell_type": "code",
   "execution_count": 61,
   "metadata": {},
   "outputs": [
    {
     "name": "stdout",
     "output_type": "stream",
     "text": [
      "0 1 2 3 4 5 6 7 8 9 10 11 12 13 14 15 16 17 18 19 Loop Over\n"
     ]
    }
   ],
   "source": [
    "for i in range(20):\n",
    "    print i,\n",
    "else:\n",
    "    print \"Loop Over\""
   ]
  },
  {
   "cell_type": "markdown",
   "metadata": {
    "slideshow": {
     "slide_type": "subslide"
    }
   },
   "source": [
    "# <center>For Loop</center>"
   ]
  },
  {
   "cell_type": "code",
   "execution_count": 62,
   "metadata": {},
   "outputs": [
    {
     "name": "stdout",
     "output_type": "stream",
     "text": [
      "123 432 543 123 543 214 65 234 435 645 234 534\n"
     ]
    }
   ],
   "source": [
    "data = [123,432,543,123,543,214,65,234,435,645,234,534]\n",
    "\n",
    "length = len(data)\n",
    "\n",
    "for i in range(length):\n",
    "    print data[i],"
   ]
  },
  {
   "cell_type": "markdown",
   "metadata": {
    "slideshow": {
     "slide_type": "notes"
    }
   },
   "source": [
    "This is one way of iterating through list, using indexes"
   ]
  },
  {
   "cell_type": "markdown",
   "metadata": {
    "slideshow": {
     "slide_type": "subslide"
    }
   },
   "source": [
    "# <center>For Loop</center>"
   ]
  },
  {
   "cell_type": "code",
   "execution_count": 63,
   "metadata": {},
   "outputs": [
    {
     "name": "stdout",
     "output_type": "stream",
     "text": [
      "123 432 543 123 543 214 65 234 435 645 234 534\n"
     ]
    }
   ],
   "source": [
    "data = [123,432,543,123,543,214,65,234,435,645,234,534]\n",
    "\n",
    "for d in data:\n",
    "    print d,"
   ]
  },
  {
   "cell_type": "markdown",
   "metadata": {
    "slideshow": {
     "slide_type": "notes"
    }
   },
   "source": [
    "- List can be iterated directly, for loop iterates for each element of list\n",
    "- range() function itself returns an list containing specified range\n",
    "    - ```print range(4)``` will print ```[0,1,2,3,4]```"
   ]
  },
  {
   "cell_type": "markdown",
   "metadata": {
    "slideshow": {
     "slide_type": "subslide"
    }
   },
   "source": [
    "# <center>For Loop</center>"
   ]
  },
  {
   "cell_type": "code",
   "execution_count": 64,
   "metadata": {},
   "outputs": [
    {
     "name": "stdout",
     "output_type": "stream",
     "text": [
      "{'gender': 'male', 'name': 'John', 'favorites': [42, 'food']}\n",
      "[('gender', 'male'), ('name', 'John'), ('favorites', [42, 'food'])]\n"
     ]
    }
   ],
   "source": [
    "print person\n",
    "print person.items()"
   ]
  },
  {
   "cell_type": "code",
   "execution_count": 65,
   "metadata": {},
   "outputs": [
    {
     "name": "stdout",
     "output_type": "stream",
     "text": [
      "gender -> male\n",
      "name -> John\n",
      "favorites -> [42, 'food']\n"
     ]
    }
   ],
   "source": [
    "for key, value in person.items():\n",
    "    print key, '->', value"
   ]
  },
  {
   "cell_type": "markdown",
   "metadata": {
    "slideshow": {
     "slide_type": "notes"
    }
   },
   "source": [
    "- person.items() returns list of tuples containing (key, value) pairs\n",
    "- this for loop iterate through key,values\n",
    "- key is read in key\n",
    "- value is read into value"
   ]
  },
  {
   "cell_type": "markdown",
   "metadata": {
    "slideshow": {
     "slide_type": "subslide"
    }
   },
   "source": [
    "# <center>Activity</center>"
   ]
  },
  {
   "cell_type": "markdown",
   "metadata": {},
   "source": [
    "1. Write a python script to store all numbers between 100 and 200 which are divisible by 3 or 5 into a list\n",
    "    - You need to store them into a list, declare a list before loop and use listname.append() to add to list\n",
    "    - Number should be divisible by either 3 or 5 or both, use % operator\n",
    "<br><br>\n",
    "2. Then print the list in first line\n",
    "3. Print the length of the list on second line"
   ]
  },
  {
   "cell_type": "markdown",
   "metadata": {
    "slideshow": {
     "slide_type": "subslide"
    }
   },
   "source": [
    "# <center>Answer</center>"
   ]
  },
  {
   "cell_type": "code",
   "execution_count": 66,
   "metadata": {},
   "outputs": [
    {
     "name": "stdout",
     "output_type": "stream",
     "text": [
      "[100, 102, 105, 108, 110, 111, 114, 115, 117, 120, 123, 125, 126, 129, 130, 132, 135, 138, 140, 141, 144, 145, 147, 150, 153, 155, 156, 159, 160, 162, 165, 168, 170, 171, 174, 175, 177, 180, 183, 185, 186, 189, 190, 192, 195, 198]\n",
      "46\n"
     ]
    }
   ],
   "source": [
    "l = []\n",
    "for i in range(100,200):\n",
    "    if i%3==0 or i%5==0:\n",
    "        l.append(i)\n",
    "\n",
    "print l\n",
    "print len(l)"
   ]
  },
  {
   "cell_type": "markdown",
   "metadata": {
    "slideshow": {
     "slide_type": "slide"
    }
   },
   "source": [
    "# <center>Functions</center>"
   ]
  },
  {
   "cell_type": "markdown",
   "metadata": {
    "slideshow": {
     "slide_type": "subslide"
    }
   },
   "source": [
    "# <center>Functions</center>\n",
    "\n",
    "### <center>Without Arguments</center>"
   ]
  },
  {
   "cell_type": "code",
   "execution_count": 67,
   "metadata": {},
   "outputs": [
    {
     "name": "stdout",
     "output_type": "stream",
     "text": [
      "Hello World!\n"
     ]
    }
   ],
   "source": [
    "def sayHello():\n",
    "    print \"Hello World!\"\n",
    "    \n",
    "sayHello()"
   ]
  },
  {
   "cell_type": "markdown",
   "metadata": {
    "slideshow": {
     "slide_type": "subslide"
    }
   },
   "source": [
    "# <center>Functions</center>\n",
    "\n",
    "### <center>With Arguments</center>"
   ]
  },
  {
   "cell_type": "code",
   "execution_count": 68,
   "metadata": {},
   "outputs": [
    {
     "name": "stdout",
     "output_type": "stream",
     "text": [
      "Hello Tim\n"
     ]
    }
   ],
   "source": [
    "def greet(name):\n",
    "    print \"Hello\",name\n",
    "\n",
    "greet(\"Tim\")"
   ]
  },
  {
   "cell_type": "markdown",
   "metadata": {
    "slideshow": {
     "slide_type": "subslide"
    }
   },
   "source": [
    "# <center>Functions</center>\n",
    "\n",
    "### <center>With Default Arguments</center>"
   ]
  },
  {
   "cell_type": "code",
   "execution_count": 69,
   "metadata": {},
   "outputs": [
    {
     "name": "stdout",
     "output_type": "stream",
     "text": [
      "Hello World\n",
      "Hello Tim\n"
     ]
    }
   ],
   "source": [
    "def greet(name=\"World\"):\n",
    "    print \"Hello\", name\n",
    "\n",
    "greet()\n",
    "greet(\"Tim\")"
   ]
  },
  {
   "cell_type": "markdown",
   "metadata": {
    "slideshow": {
     "slide_type": "notes"
    }
   },
   "source": [
    "- if no value is provided for argument, its default value is taken that is \"World\" in this case"
   ]
  },
  {
   "cell_type": "markdown",
   "metadata": {
    "slideshow": {
     "slide_type": "subslide"
    }
   },
   "source": [
    "# <center>Functions</center>\n",
    "\n",
    "### <center>With Return</center>"
   ]
  },
  {
   "cell_type": "code",
   "execution_count": 70,
   "metadata": {},
   "outputs": [
    {
     "name": "stdout",
     "output_type": "stream",
     "text": [
      "5\n"
     ]
    }
   ],
   "source": [
    "def getMax(x,y):\n",
    "    if x>y:\n",
    "        return x\n",
    "    else:\n",
    "        return y\n",
    "\n",
    "print getMax(3,5)"
   ]
  },
  {
   "cell_type": "markdown",
   "metadata": {
    "slideshow": {
     "slide_type": "subslide"
    }
   },
   "source": [
    "# <center>Functions</center>\n",
    "\n",
    "### <center>Input/Output</center>"
   ]
  },
  {
   "cell_type": "code",
   "execution_count": 71,
   "metadata": {
    "scrolled": true
   },
   "outputs": [
    {
     "name": "stdout",
     "output_type": "stream",
     "text": [
      "Enter something: Some Random Text\n"
     ]
    },
    {
     "data": {
      "text/plain": [
       "'Some Random Text'"
      ]
     },
     "execution_count": 71,
     "metadata": {},
     "output_type": "execute_result"
    }
   ],
   "source": [
    "# to read text\n",
    "something = raw_input(\"Enter something: \")\n",
    "\n",
    "something"
   ]
  },
  {
   "cell_type": "markdown",
   "metadata": {
    "slideshow": {
     "slide_type": "notes"
    }
   },
   "source": [
    "In python3, ```raw_input()``` replaced with ```input()```"
   ]
  },
  {
   "cell_type": "markdown",
   "metadata": {
    "slideshow": {
     "slide_type": "subslide"
    }
   },
   "source": [
    "# <center>Functions</center>\n",
    "\n",
    "### <center>Input/Output</center>"
   ]
  },
  {
   "cell_type": "code",
   "execution_count": 72,
   "metadata": {},
   "outputs": [
    {
     "name": "stdout",
     "output_type": "stream",
     "text": [
      "Enter an expression: 1 + 2 * 3 + 2**10\n"
     ]
    },
    {
     "data": {
      "text/plain": [
       "1031"
      ]
     },
     "execution_count": 72,
     "metadata": {},
     "output_type": "execute_result"
    }
   ],
   "source": [
    "# to read a expression and evaluate it, can read numbers also, cant read text\n",
    "something = input(\"Enter an expression: \")\n",
    "\n",
    "something"
   ]
  },
  {
   "cell_type": "markdown",
   "metadata": {
    "slideshow": {
     "slide_type": "notes"
    }
   },
   "source": [
    "In python3, this feature is removed\n",
    "- to get same functionality use ``` eval(input())```"
   ]
  },
  {
   "cell_type": "markdown",
   "metadata": {
    "slideshow": {
     "slide_type": "subslide"
    }
   },
   "source": [
    "# <center>Functions</center>"
   ]
  },
  {
   "cell_type": "code",
   "execution_count": 73,
   "metadata": {},
   "outputs": [
    {
     "name": "stdout",
     "output_type": "stream",
     "text": [
      "2\n",
      "10\n",
      "30\n",
      "[2, 2, 3, 3, 4, 6, 10]\n",
      "[10, 6, 4, 3, 3, 2, 2]\n"
     ]
    }
   ],
   "source": [
    "a = [10,2,3,4,6,3,2]\n",
    "\n",
    "print min(a)\n",
    "print max(a)\n",
    "print sum(a)\n",
    "print sorted(a)\n",
    "print sorted(a, reverse=True)"
   ]
  },
  {
   "cell_type": "markdown",
   "metadata": {
    "slideshow": {
     "slide_type": "subslide"
    }
   },
   "source": [
    "# <center>Activity</center>"
   ]
  },
  {
   "cell_type": "markdown",
   "metadata": {},
   "source": [
    "Write a function to check if a number is even or odd\n",
    "- if the number is even, return 'Even'\n",
    "- otherwise return 'Odd'\n",
    "\n",
    "Call the above function and print the output for any sample number of your choice(you can even read number from input())"
   ]
  },
  {
   "cell_type": "markdown",
   "metadata": {
    "slideshow": {
     "slide_type": "subslide"
    }
   },
   "source": [
    "# <center>Answer</center>"
   ]
  },
  {
   "cell_type": "code",
   "execution_count": 74,
   "metadata": {},
   "outputs": [
    {
     "name": "stdout",
     "output_type": "stream",
     "text": [
      "6\n",
      "Even\n"
     ]
    }
   ],
   "source": [
    "def evenOdd(num):\n",
    "    if num%2==0:\n",
    "        return 'Even'\n",
    "    else:\n",
    "        return 'Odd'\n",
    "    \n",
    "n = input()\n",
    "print evenOdd(n)"
   ]
  },
  {
   "cell_type": "markdown",
   "metadata": {
    "slideshow": {
     "slide_type": "slide"
    }
   },
   "source": [
    "# <center>Importing Libraries</center>"
   ]
  },
  {
   "cell_type": "markdown",
   "metadata": {
    "slideshow": {
     "slide_type": "subslide"
    }
   },
   "source": [
    "# <center>Importing Libraries</center>"
   ]
  },
  {
   "cell_type": "code",
   "execution_count": 75,
   "metadata": {},
   "outputs": [
    {
     "name": "stdout",
     "output_type": "stream",
     "text": [
      "Sun Mar  4 00:22:56 2018\n"
     ]
    }
   ],
   "source": [
    "import time\n",
    "\n",
    "print time.ctime()"
   ]
  },
  {
   "cell_type": "code",
   "execution_count": 76,
   "metadata": {},
   "outputs": [
    {
     "name": "stdout",
     "output_type": "stream",
     "text": [
      "     March 2018\n",
      "Mo Tu We Th Fr Sa Su\n",
      "          1  2  3  4\n",
      " 5  6  7  8  9 10 11\n",
      "12 13 14 15 16 17 18\n",
      "19 20 21 22 23 24 25\n",
      "26 27 28 29 30 31\n",
      "\n"
     ]
    }
   ],
   "source": [
    "import calendar\n",
    "\n",
    "cal = calendar.month(2018, 3)\n",
    "print cal"
   ]
  },
  {
   "cell_type": "markdown",
   "metadata": {
    "slideshow": {
     "slide_type": "slide"
    }
   },
   "source": [
    "# <center>Files</center>"
   ]
  },
  {
   "cell_type": "markdown",
   "metadata": {
    "slideshow": {
     "slide_type": "subslide"
    }
   },
   "source": [
    "# <center>Files</center>\n",
    "\n",
    "### <center>Writing</center>"
   ]
  },
  {
   "cell_type": "code",
   "execution_count": 77,
   "metadata": {},
   "outputs": [],
   "source": [
    "data = \"This is a test string\"\n",
    "\n",
    "f = open('test.txt', 'w') # open for 'w'riting\n",
    "f.write(data)    # write data to file\n",
    "f.close()   # close the file"
   ]
  },
  {
   "cell_type": "markdown",
   "metadata": {
    "slideshow": {
     "slide_type": "subslide"
    }
   },
   "source": [
    "# <center>Files</center>\n",
    "\n",
    "### <center>Reading</center>"
   ]
  },
  {
   "cell_type": "code",
   "execution_count": 78,
   "metadata": {},
   "outputs": [
    {
     "name": "stdout",
     "output_type": "stream",
     "text": [
      "This is a test string\n"
     ]
    }
   ],
   "source": [
    "f = open('test.txt') # read mode\n",
    "\n",
    "while True:\n",
    "    line = f.readline()\n",
    "    if len(line)==0:  # Zero length indicates EOF\n",
    "        break\n",
    "    print line\n",
    "    \n",
    "f.close()"
   ]
  },
  {
   "cell_type": "markdown",
   "metadata": {
    "slideshow": {
     "slide_type": "notes"
    }
   },
   "source": [
    "- if mode is not specified, it defaults to read mode\n",
    "\n",
    "- ```open(filename, 'r')``` and ```open(filename)``` are same"
   ]
  },
  {
   "cell_type": "markdown",
   "metadata": {
    "slideshow": {
     "slide_type": "slide"
    }
   },
   "source": [
    "# <center>map/filter/reduce</center>"
   ]
  },
  {
   "cell_type": "markdown",
   "metadata": {
    "slideshow": {
     "slide_type": "subslide"
    }
   },
   "source": [
    "# <center>map</center>\n",
    "\n",
    "### <center>Apply an operation to all elements</center>"
   ]
  },
  {
   "cell_type": "code",
   "execution_count": 79,
   "metadata": {},
   "outputs": [
    {
     "name": "stdout",
     "output_type": "stream",
     "text": [
      "[1, 4, 9, 16, 25]\n"
     ]
    }
   ],
   "source": [
    "def sqr(x):\n",
    "    return x**2\n",
    "\n",
    "a = [1,2,3,4,5]\n",
    "\n",
    "squares_a = map(sqr, a)\n",
    "\n",
    "print squares_a"
   ]
  },
  {
   "cell_type": "markdown",
   "metadata": {
    "slideshow": {
     "slide_type": "notes"
    }
   },
   "source": [
    "- map function passes each element of a to sqr function and returns list containing returned value"
   ]
  },
  {
   "cell_type": "markdown",
   "metadata": {
    "slideshow": {
     "slide_type": "subslide"
    }
   },
   "source": [
    "# <center>filter</center>\n",
    "\n",
    "### <center>Filter elements based on some condition</center>"
   ]
  },
  {
   "cell_type": "code",
   "execution_count": 80,
   "metadata": {},
   "outputs": [
    {
     "name": "stdout",
     "output_type": "stream",
     "text": [
      "[2, 4, 6, 8, 10]\n"
     ]
    }
   ],
   "source": [
    "def is_even(x):\n",
    "    return x%2==0   # returns true if x is divisible by 2 otherwise false\n",
    "\n",
    "a = [1,2,3,4,5,6,7,8,9,10]\n",
    "\n",
    "evens_a = filter(is_even, a)\n",
    "\n",
    "print evens_a"
   ]
  },
  {
   "cell_type": "markdown",
   "metadata": {
    "slideshow": {
     "slide_type": "notes"
    }
   },
   "source": [
    "- filter function passes each element of a to is_prime function and adds it to output list if the function returns true\n",
    "    - 1%2==0 is false -> not included\n",
    "    - 2%2==0 is true -> included"
   ]
  },
  {
   "cell_type": "markdown",
   "metadata": {
    "slideshow": {
     "slide_type": "subslide"
    }
   },
   "source": [
    "# <center>reduce</center>\n",
    "\n",
    "### <center>reduce list to one element</center>"
   ]
  },
  {
   "cell_type": "code",
   "execution_count": 81,
   "metadata": {},
   "outputs": [
    {
     "name": "stdout",
     "output_type": "stream",
     "text": [
      "55\n"
     ]
    }
   ],
   "source": [
    "def add(x,y):\n",
    "    return x+y\n",
    "\n",
    "a = [1,2,3,4,5,6,7,8,9,10]\n",
    "\n",
    "primes_a = reduce(add, a)\n",
    "\n",
    "print primes_a"
   ]
  },
  {
   "cell_type": "markdown",
   "metadata": {
    "slideshow": {
     "slide_type": "notes"
    }
   },
   "source": [
    "- reduce passes first two elements to the max function\n",
    "    - add(1,2) -> 3\n",
    "- then it passes previous result and next element\n",
    "    - add(3,3) -> 6\n",
    "- it repeats step 2 untill all elements are consumed\n",
    "    - add(6,4) -> 10\n",
    "    - add(10,5) -> 15\n",
    "    and so on"
   ]
  },
  {
   "cell_type": "markdown",
   "metadata": {
    "slideshow": {
     "slide_type": "slide"
    }
   },
   "source": [
    "# <center>Any Queries?</center>"
   ]
  },
  {
   "cell_type": "markdown",
   "metadata": {
    "slideshow": {
     "slide_type": "subslide"
    }
   },
   "source": [
    "# <center>Homework</center>"
   ]
  },
  {
   "cell_type": "markdown",
   "metadata": {},
   "source": [
    "- Find out about more inbuild function, there are lot of them\n",
    "- Find out about sets, its a data structure\n",
    "- Try solving questions on online platforms using python\n",
    "    - Hackerrank\n",
    "    - Hackerearth\n",
    "    - CodinGames - You'll Love It\n",
    "    - CodeChef - Try finding easiest question in easiest questions list\n",
    "    - Google Code Jam and Kickstart - You may get hired by google"
   ]
  },
  {
   "cell_type": "markdown",
   "metadata": {
    "slideshow": {
     "slide_type": "slide"
    }
   },
   "source": [
    "# <center>Thank You</center>\n",
    "\n",
    "#### <center>Speakers</center>\n",
    "\n",
    "|            |Sanjit Singh Chouhan    |Pattan Asif Khan       |Sai Bhavani Kumar             |Biswojeet Panda          |\n",
    "|------------|------------------------|-----------------------|------------------------------|-------------------------|\n",
    "|**Telegram**|@sanjitschouhan         |@asifbugger            |@sai_bhavanikumar             |                         |\n",
    "|**LinkedIn**|[sanjitschouhan](https://linkedin.com/in/sanjitschouhan)|[pattanasifkhan](https://linkedin.com/in/pattanasifkhan)     |[sai-bhavani-kumar](https://linkedin.com/in/sai-bhavani-kumar-421b03135)             |[biswojeetpanda](https://linkedin.com/in/biswojeetpanda)           |\n",
    "|**Twitter** |@sanjeet291196          |@Asif_Khan_P           |@sai_bhavani97                |@biswajeet15696          |\n",
    "|**Github**  |[sanjitschouhan](https://github.com/sanjitschouhan)          |[PattanAsifKhan](https://github.com/PattanAsifKhan)         |[sai-bhavani](https://github.com/sai-bhavani)                   |[biswajeet619](https://github.com/biswajeet619)             |\n",
    "|**Email**   |sanjit@riseup.net       |asif.khan.399@gmail.com|sai.bhavanikumar6396@gmail.com|biswajeet15696@gmail.com |"
   ]
  }
 ],
 "metadata": {
  "celltoolbar": "Slideshow",
  "kernelspec": {
   "display_name": "Python 2",
   "language": "python",
   "name": "python2"
  },
  "language_info": {
   "codemirror_mode": {
    "name": "ipython",
    "version": 2
   },
   "file_extension": ".py",
   "mimetype": "text/x-python",
   "name": "python",
   "nbconvert_exporter": "python",
   "pygments_lexer": "ipython2",
   "version": "2.7.12"
  }
 },
 "nbformat": 4,
 "nbformat_minor": 2
}
